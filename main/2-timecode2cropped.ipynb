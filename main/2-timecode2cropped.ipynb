{
 "cells": [
  {
   "cell_type": "markdown",
   "id": "51a64289-86a6-424a-bf28-33349cc4fea4",
   "metadata": {},
   "source": [
    "такой задачи тоже пока не стоит. в slovo все уже кропнуто"
   ]
  },
  {
   "cell_type": "markdown",
   "id": "9298bb7f-d960-4c8f-9c52-6c44b60ed1f5",
   "metadata": {},
   "source": [
    "этот код берет таймкоды из timecodes.json все видео из папки 2/\n",
    "предпологается что \n",
    "\n",
    "- видео хранятся в нумеровоном формате 1.mp4, ... n.mp4\n",
    "- таймкоды хранятся в формате\n",
    "    {\n",
    "        \"1\": [[0.1, 0.3], [1, 2], ...],\n",
    "        ...\n",
    "        \"n\": [...],\n",
    "    }\n",
    "\n",
    "  \n",
    "далее он нарезает каждое видео на соответствующие ему таймкоды и записывает в папку /3\n",
    "итоговые кропы в формате \\<video_id\\>_\\<crop_id\\>.mp4"
   ]
  },
  {
   "cell_type": "code",
   "execution_count": 11,
   "id": "72d92560-35dd-4883-8c33-30642ce661d0",
   "metadata": {},
   "outputs": [],
   "source": [
    "import json\n",
    "from moviepy.video.io.VideoFileClip import VideoFileClip"
   ]
  },
  {
   "cell_type": "code",
   "execution_count": 14,
   "id": "542794e9-17d2-43aa-8150-80f892057904",
   "metadata": {},
   "outputs": [],
   "source": [
    "\n",
    "\n",
    "with open('2/timecodes.json') as f:\n",
    "    data = json.load(f)\n",
    "\n",
    "# clip = VideoFileClip('2/1.mp4')\n",
    "\n",
    "for clip_id in range(1, 2):\n",
    "    for i, (start, end) in enumerate(data[\"1\"], 1):\n",
    "        clip = VideoFileClip(f'2/{clip_id}.mp4')\n",
    "    \n",
    "        subclip = clip.subclip(start, end)\n",
    "        subclip.write_videofile(f'3/{clip_id}_{i}.mp4', codec=\"libx264\", logger=None)\n",
    "\n",
    "clip.close()"
   ]
  },
  {
   "cell_type": "code",
   "execution_count": null,
   "id": "de45240d-1810-4441-a3f7-b82a02ba04c8",
   "metadata": {},
   "outputs": [],
   "source": []
  }
 ],
 "metadata": {
  "kernelspec": {
   "display_name": "Python 3 (ipykernel)",
   "language": "python",
   "name": "python3"
  },
  "language_info": {
   "codemirror_mode": {
    "name": "ipython",
    "version": 3
   },
   "file_extension": ".py",
   "mimetype": "text/x-python",
   "name": "python",
   "nbconvert_exporter": "python",
   "pygments_lexer": "ipython3",
   "version": "3.13.1"
  }
 },
 "nbformat": 4,
 "nbformat_minor": 5
}
