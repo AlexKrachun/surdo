{
 "cells": [
  {
   "cell_type": "markdown",
   "id": "a6a00537-67da-4c43-bb6e-37e36bc541ea",
   "metadata": {},
   "source": []
  },
  {
   "cell_type": "markdown",
   "id": "26d05671-46a5-4198-aeb8-24c264fffbd8",
   "metadata": {},
   "source": []
  }
 ],
 "metadata": {
  "kernelspec": {
   "display_name": "Python 3 (ipykernel)",
   "language": "python",
   "name": "python3"
  },
  "language_info": {
   "codemirror_mode": {
    "name": "ipython",
    "version": 3
   },
   "file_extension": ".py",
   "mimetype": "text/x-python",
   "name": "python",
   "nbconvert_exporter": "python",
   "pygments_lexer": "ipython3",
   "version": "3.13.1"
  }
 },
 "nbformat": 4,
 "nbformat_minor": 5
}
